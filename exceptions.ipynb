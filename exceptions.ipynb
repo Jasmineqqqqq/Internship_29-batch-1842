{
 "cells": [
  {
   "cell_type": "code",
   "execution_count": null,
   "id": "fdd85432",
   "metadata": {},
   "outputs": [],
   "source": [
    "try: #in by id, ny xpath does not work for elements.This happens when it is not availbale on the web page, but u r finding it\n",
    "    element = driver.find_element_by_id(\"Hoo-Ha-Ho\")\n",
    "     print(element.text)\n",
    "except NoSuchElementException as e:\n",
    "    print(\"Exception Raised: \", e)\n",
    "    element = driver.find_element(By.CLASS_NAME,\"gb_d\")\n",
    "    print(element.text)\n",
    "#just check for indent\n",
    "\n",
    "No attribute=update in selenium, use new syntax"
   ]
  },
  {
   "cell_type": "code",
   "execution_count": null,
   "id": "34aaaf8c",
   "metadata": {},
   "outputs": [],
   "source": [
    "#In case your element is correct,then this exception can arise when the webpage is not loaded completely.In such case we can use explicit waits\n",
    "#usingwebdriverwat\n",
    "# Importing required classes\n",
    "#for wait, it will not wait for 10 sec, if gets element early, it will move on aytomatically. wont eait for comelte 10 sec\n",
    "from selenium import webdriver\n",
    "from selenium.wobdriver.support.ui import WebDriverWait\n",
    "from selenium.webdriver.support import expected_conditions as EC\n",
    "from selenium.webdriver.common.by import By\n",
    "driver=webdriver.Chrome(\"C /Users/balan/Downloads/chromadriver_win32/chromedriver.exe\")\n",
    "driver.get(\"https://www.amazon.in/\")\n",
    "delay=10 #seconds\n",
    "WebDriverwait(driver, delay).until(EC.presence_of_element_located((By.CLASS_NAME, 'nav_last')))\n",
    "element=driver.find_element(By.XPATH,\"// 11[@class='nav_last']\")\n",
    "element"
   ]
  },
  {
   "cell_type": "code",
   "execution_count": null,
   "id": "cd1223f8",
   "metadata": {},
   "outputs": [],
   "source": [
    "#StaleElementReferenceException- espevially for synamic we bpages\n",
    "#This exception is raised or thrown when a a element is now stale\n",
    "#\"-means that the element was available at the time of execution of find operation \n",
    "#but no longer appears on the DOM Document Object Model)of the page while doing some operation\n",
    "#this usually happens with dynamic web elements of the web page.\n",
    "#This exception may occur due to following reasons:\n",
    "#1. The page is no longer the same or the page has been refreshed since the element was located.\n",
    "#2. The element may have been removed and re-added to the screen like relocation,since it was located.\n",
    "#3. Element may have been inside a frame which was refreshed."
   ]
  },
  {
   "cell_type": "code",
   "execution_count": null,
   "id": "719c12a3",
   "metadata": {},
   "outputs": [],
   "source": [
    "from selenium.common.exceptions import StaleElement ReferenceException #use when first clickable, now not clickable\n",
    "from selenium import webdriver\n",
    "from selenium.wobdriver.support.ui import WebDriverWait\n",
    "from selenium.webdriver.support import expected_conditions as EC\n",
    "from selenium.webdriver.common.by import By\n",
    "driver=webdriver.chrome(\"C/Users/balan/Downloads/chrosedriver_win32/chronedriver.exe) #use this for ynamic web pages especially whethings cjange\n",
    "driver.get(\"https://www.amazon.in/\") #visible page button\n",
    "try:\n",
    "    element driver.find_element(By.XPATH,\"//li[@class='nav_last]\")\n",
    "    print(element)\n",
    "except StaleElementReferenceException as e:\n",
    "                        print(\"Exceptions Raised: \", e)\n",
    "                        print(\"Refreshing the page!!\")\n",
    "                        driver.get(\"https://www.amazon.in/\")\n",
    "                        WebDriverwait(driver, delay).until(EC.presence of element located((By.CLASS_NAME, \"nav_last\")))\n",
    "                        element=driver.find_element(By.XPATH, \"//li@class-'nav_last']\") #will be same, just refreshing the page\n",
    "                        print(element)"
   ]
  },
  {
   "cell_type": "code",
   "execution_count": null,
   "id": "fecf3cf8",
   "metadata": {},
   "outputs": [],
   "source": [
    "#ElementNotVisibleException\n",
    "#This exception can be imported as:from selenium.common.exceptions import ElementNotVisibleException\n",
    "#This particular exception is raised when an element is present on the DOM of the webpage,but it is not visible.\n",
    "#It occurs most commonly when trying to click or read text of an element that is hidden from view\n",
    "#use the same above approach\n",
    "#find an alternate element and use that\n",
    "Nte: u r tryin to cick but not able to...element not visible\n",
    "    Try from parent tag \n",
    "    ange finction 0-3, so 3 times click\n",
    "    start click on next button\n",
    "    again click on next"
   ]
  },
  {
   "cell_type": "code",
   "execution_count": null,
   "id": "143b5181",
   "metadata": {},
   "outputs": [],
   "source": [
    "#4. ElementNotinteractable Exception\n",
    "#Base Exception Class:selenium.common.exceptions.InvalidElemenception\n",
    "#when i click on certain element, it is there, but when i click, it is not showing.\n",
    "#This exception is raised when an element is present in the DOM of the webpaga but interactions with that \n",
    "#element will hit another alement.That means the\n",
    "#element is overlapped by some other element and when we try to click or interact with the first element,\n",
    "#driver tends to interact with the latter.\n",
    "from selenium.common.exceptions import ElementNotInteractableException # Importing Exception\n",
    "driver = webdriver.Chrome(r\"C:/Users/balan/Downloads/chromedriver_win32/chromedriver.exe\")\n",
    "driver.get(\"https://www.amazon.in/\")\n",
    "time.sleep(5)\n",
    "try:\n",
    "    element = driver.find_element(By.XPATH,\"// i[@class=' a-icon a-icon-previous-rounded\"]/span\")\n",
    "    element.click()\n",
    "except ElementNotInteractableException as e:\n",
    "    print(\"Exception Raised: \", e)\n",
    "    element=driver.find_element(By.XPATH,\"// a[@class= 'a-carousel-goto-nextpage\"]\")\n",
    "    driver.get(element.get_attribute('href'))"
   ]
  },
  {
   "cell_type": "code",
   "execution_count": null,
   "id": "1e5e718e",
   "metadata": {},
   "outputs": [],
   "source": [
    "#SessionNotCreatedException\n",
    "Base Exception Class:selenlum.common.exceptions.WebDriverException \n",
    "This exception can be imported as:from selenium.common.exceptions\n",
    "import Session NotCreatedException\n",
    "#This exception is raised when a new web driver session could\n",
    "be created The reason for this to happen may be:\n",
    "1. Your webdriver's version doesnot match with your installed web browser version.\n",
    "2. Conflicts in opening automated web driver\n",
    "from selenium.common.exceptions import SessionNot CreatedException #Importing Exception\n",
    "try: #to update browser\n",
    "    driver = webdriver.Chrome(\"C:Users\\HP\\Desktop\\Fliprobo notes\\chromedriver.exe\")\n",
    "    driver.get(\"https://www.google.com/\")\n",
    "except SessionNotCreatedException as e:\n",
    "    print(\"Exception Raised:\" , e )\n",
    "    driver = webdriver.Chrome(r\"C:Users/balan/Downloads/chromedriver win32/chromedriver.exe\")\n",
    "    driver.get(\"https://www.google.com/\")"
   ]
  },
  {
   "cell_type": "code",
   "execution_count": null,
   "id": "08daab72",
   "metadata": {},
   "outputs": [],
   "source": [
    "#TimeoutException\n",
    "#This exception can be imported as from selenium.common.exceptions\n",
    "#Import TimeoutException\n",
    "#This exception is raised when a command does not complete with in time.Like with in implicit or explicit wait time specified.\n",
    "#This may happen due to slow\n",
    "#internet connections or a conflict with webhost is occured.\n",
    "from selenium.webdriver.support.ui import WebDriverWait\n",
    "from selenium.webdriver.support import expected_conditions as EC\n",
    "from selenium webdriver.common by import By\n",
    "from selenium.common.exceptions import TimeoutException\n",
    "driver = webdriver.Chrome(\"C:/Users/balan/Downloads/chromedriver_win32/chromedriver.exe)\n",
    "delay = 5\n",
    "try:\n",
    "    driver.get(\"https://www.amazon.in/\")\n",
    "    WebDriverwait(driver, delay).until(EC.presence_of_element_located((By.CLASS_NAME, \"//div[@class=\")))\n",
    "    element=driver.find_element(By.XPATH, \"a section 'a-spacing mini']\")\n",
    "    print(element)\n",
    "except TimeoutException as e:\n",
    "    print(\"Exception Raised: \", e)\n",
    "                          \n",
    "                          #time to load page, or worng page, we can increase time or internet connection"
   ]
  },
  {
   "cell_type": "code",
   "execution_count": null,
   "id": "4f2e8cbe",
   "metadata": {},
   "outputs": [],
   "source": [
    "from selenium import webdriver\n",
    "from selenium.webdriver.chrome.options import Options\n",
    "chrome.options=Options()\n",
    "chrome_options.add_argument('--incognito')\n"
   ]
  },
  {
   "cell_type": "code",
   "execution_count": null,
   "id": "72656838",
   "metadata": {},
   "outputs": [],
   "source": [
    "driver=webdriver.Chrome(r\"C\\Users\\HP\\Desktop\\Fliproho notes chronedriver.ex\")"
   ]
  },
  {
   "cell_type": "code",
   "execution_count": null,
   "id": "b2e9b5b6",
   "metadata": {},
   "outputs": [],
   "source": [
    "driver.get(\"https://www.google.com\")\n",
    "#Opening Chrome in incognito mode"
   ]
  },
  {
   "cell_type": "code",
   "execution_count": null,
   "id": "427a9cc7",
   "metadata": {},
   "outputs": [],
   "source": [
    "import selenium\n",
    "import time\n",
    "from selenium import webdriver\n",
    "import pandas as pd\n",
    "import warnings\n",
    "warnings.filterwarnings(\"ignore\")\n",
    "\n",
    "from selenium.webdriver.common.keys import Keys\n",
    "from selenium.webdriver.chrome.options import Options\n",
    "from selenium.webdriver.support.ui import WebDriverWait\n",
    "from selenium.webdriver.support import expected_conditions as EC\n",
    "from getpass import getpass\n",
    "from selenium.common.exceptions import NoSuchElementException\n",
    "\n",
    "from selenium.webdriver.chrome.service import Service #always import this or web driver gives truble\n",
    "from selenium.webdriver.common.by import By #always import this or web driver gives truble\n",
    "from selenium.webdriver.support.select import Select #always import this\n",
    "import time\n",
    "from selenium.common.exceptions import ElementNotInteractableException\n",
    "from selenium.common.exceptions import SessionNotCreatedException #Importing Exception\n",
    "#happen due to slow internet connection, loading ime\n",
    "from selenium.webdriver.support.ul import WebDriverwait\n",
    "from selenium.webdriver.support import expected_conditions as EC\n",
    "from selenium.webdriver.common by import By\n",
    "from selenium.common.exceptions import TimeoutException"
   ]
  },
  {
   "cell_type": "code",
   "execution_count": null,
   "id": "63d8931e",
   "metadata": {},
   "outputs": [],
   "source": [
    "user_inp=input('Enter the product you want to search : ')\n",
    "\n"
   ]
  },
  {
   "cell_type": "code",
   "execution_count": null,
   "id": "005c6bfb",
   "metadata": {},
   "outputs": [],
   "source": [
    "user_imp"
   ]
  },
  {
   "cell_type": "code",
   "execution_count": null,
   "id": "9a2bf422",
   "metadata": {},
   "outputs": [],
   "source": [
    "search_bar.send_keys(user_inp)"
   ]
  },
  {
   "cell_type": "code",
   "execution_count": null,
   "id": "6acfff81",
   "metadata": {},
   "outputs": [],
   "source": [
    "selenium.__version__"
   ]
  },
  {
   "cell_type": "code",
   "execution_count": null,
   "id": "d1a21a58",
   "metadata": {},
   "outputs": [],
   "source": [
    "for i in range(20):\n",
    "driver.execute_script(\"window.scrollby 0,1000)\")"
   ]
  },
  {
   "cell_type": "code",
   "execution_count": null,
   "id": "b0e9e267",
   "metadata": {},
   "outputs": [],
   "source": [
    "#for images\n",
    "for image in images:\n",
    "    source= image.get_attribute('src')"
   ]
  },
  {
   "cell_type": "code",
   "execution_count": null,
   "id": "161c9b1c",
   "metadata": {},
   "outputs": [],
   "source": [
    "for i in range(len(img_urls)):\n",
    "    if i> 10:\n",
    "        break\n",
    "    print(\"Downloading {0} of {1} images\" .format(i, 10))\n",
    "    response=requests.get(img_urls[i])\n",
    "    file= open(r\"path\"+str(i)+\".jpg\", \"wb\") #path where u want to store image\n",
    "    file.write(response.content)"
   ]
  },
  {
   "cell_type": "code",
   "execution_count": null,
   "id": "361619af",
   "metadata": {},
   "outputs": [],
   "source": [
    "url_string = driver.current_url #current url of that page, utake lattitude and longitude in url "
   ]
  },
  {
   "cell_type": "code",
   "execution_count": null,
   "id": "0fe53cbe",
   "metadata": {},
   "outputs": [],
   "source": [
    "if x==null:\n",
    "    append.\n",
    "    pringt()"
   ]
  },
  {
   "cell_type": "code",
   "execution_count": null,
   "id": "be6bfe57",
   "metadata": {},
   "outputs": [],
   "source": [
    "#fetching urt to open each job, multile pages\n",
    "job_opening_url=[]\n",
    "start=0\n",
    "end=2\n",
    "for page in range(start,end):\n",
    "    url=driver.find_elements(By.XPATH,'// al@class \"title fw500 ellipsis\"]')\n",
    "    for i in url:\n",
    "        job_opening_url.append(i.get_attribute('href'))\n",
    "    next_button=driver.find_elements(By.XPATH,\"\")\n"
   ]
  },
  {
   "cell_type": "code",
   "execution_count": null,
   "id": "b01b3480",
   "metadata": {},
   "outputs": [],
   "source": [
    "len(job_opening_url)"
   ]
  },
  {
   "cell_type": "code",
   "execution_count": null,
   "id": "e3f7f595",
   "metadata": {},
   "outputs": [],
   "source": []
  },
  {
   "cell_type": "code",
   "execution_count": null,
   "id": "7298bfed",
   "metadata": {},
   "outputs": [],
   "source": [
    "#to extract job descriptions\n",
    "for i in job_opening_url[0:4]:#iterating over each and every url to fetch full job details. only first 4 enteries\n",
    "    driver.get(i) #taking each url one by one as an input\n",
    "    time.sleep(5)\n",
    "    try:\n",
    "        description=driver.find_element(By.XPATH.'')\n",
    "        JD.append(description.text\n",
    "    except NoSuchElementException:\n",
    "        JD.append('Not Present')"
   ]
  },
  {
   "cell_type": "code",
   "execution_count": null,
   "id": "5492b082",
   "metadata": {},
   "outputs": [],
   "source": [
    "url\n",
    "delay= 10 # seconds\n",
    "WebDriverWait(driver, delay).until(EC.presence_of_element_located((By.CLASS_NAME, \"nav_last')))\n",
    "element driver.find_element(By.XPATH,\"//li[@classelement\")\n",
    "element"
   ]
  },
  {
   "cell_type": "code",
   "execution_count": null,
   "id": "d4e21312",
   "metadata": {},
   "outputs": [],
   "source": []
  },
  {
   "cell_type": "code",
   "execution_count": null,
   "id": "411ce6bd",
   "metadata": {},
   "outputs": [],
   "source": []
  },
  {
   "cell_type": "code",
   "execution_count": null,
   "id": "ada96017",
   "metadata": {},
   "outputs": [],
   "source": [
    "driver=webdriver.Chrome(r'C/Users/balan/Downloads') #use this\n",
    "driver.get(\"https://www.amazon.in/\")\n",
    "time.sleep(5)\n",
    "try:\n",
    "    element = driver.find_element(By.XPATH,\"//i[@class=\"a-icon a-Icon-previous-rounded\"]/span\")\n",
    "    element.click()\n",
    "except ElementNotInteractableException as e:\n",
    "    print(\"Exception Raised: \", e)\n",
    "    element=driver.find_element(By.XPATH,\"//i[@class=\"a-icon a-Icon-previous-rounded\"]/span\") #taken same as exaple. use an altrnative ink basically over here.  happens when u click on element but not present.the not prsenet u put first\n",
    "    driver.get(element.get_attribute('href'))"
   ]
  },
  {
   "cell_type": "code",
   "execution_count": null,
   "id": "f3f7aeac",
   "metadata": {},
   "outputs": [],
   "source": []
  },
  {
   "cell_type": "code",
   "execution_count": null,
   "id": "08357f8f",
   "metadata": {},
   "outputs": [],
   "source": []
  },
  {
   "cell_type": "code",
   "execution_count": null,
   "id": "71cc31c3",
   "metadata": {},
   "outputs": [],
   "source": [
    "from selenium import webdriver\n",
    "from selenium.webdriver.chrome.options import Options Pinporting options\n",
    "chrome_options=Options()\n",
    "chrome_options.ad_argument(\"--Incognito\") #if web does not allow scrapping use this or use diff browser, try after 1 day\n",
    "\n"
   ]
  },
  {
   "cell_type": "code",
   "execution_count": null,
   "id": "bdc0adb8",
   "metadata": {},
   "outputs": [],
   "source": [
    "e"
   ]
  },
  {
   "cell_type": "code",
   "execution_count": null,
   "id": "419c4b40",
   "metadata": {},
   "outputs": [],
   "source": [
    "#time to load prooerly. web driver stopped wprkinf as scrapping huge data, needs time tp do properly\n",
    "from selenium.common.exceptions import SessionNot CreatedException\n",
    "try:\n",
    "    driver = webdriver.Chrome(\"C:/Users/balan/Downloads/chromedriver_win32/chromedriver.exe\")\n",
    "    driver.get(\"https://www.google.com/\")\n",
    "except SessionNotcreatedException as e:\n",
    "    print(\"Exception Raised: \", e)\n",
    "    driver=webdriver.Chrome(r\"C\\Users\\HP\\Desktop\\F11probo notes\\chromedriver.exe\")\n",
    "    driver.get(\"https://www.google.com/\")\n",
    "#Importing Exception"
   ]
  },
  {
   "cell_type": "code",
   "execution_count": null,
   "id": "4e0813ce",
   "metadata": {},
   "outputs": [],
   "source": [
    "#happen due to slow internet connection, loading ime\n",
    "from selenium.webdriver.support.ul import WebDriverwait\n",
    "from selenium.webdriver.support import expected_conditions as EC\n",
    "from selenium.webdriver.common by import By\n",
    "from selenium.common.exceptions import TimeoutException\n",
    "driver webdriver.Chrome(r\"C:/Users/balan/Downloads/chromedriver win32/chronedriver.exe\")\n",
    "delay 5\n",
    "try:\n",
    "    driver.get(\"https://www.amazon.in/\")\n",
    "    WebDriverWait(driver, delay).until(EC.presence of element located((By.CLASS NAME, 'a-section a-spacing-mini')))\n",
    "    element = driver.find_element(By.XPATH,\"//div[@class-a-section a-spacing-nini\"]\")\n",
    "    print(element)\n",
    "except TimeoutException as e:\n",
    "                            print(\"Exception Raised: \", e)"
   ]
  },
  {
   "cell_type": "code",
   "execution_count": null,
   "id": "0431a207",
   "metadata": {},
   "outputs": [],
   "source": [
    "\n",
    "scrapping href scrpe, clicking on prodct and geting each link\n",
    "driver.get"
   ]
  },
  {
   "cell_type": "code",
   "execution_count": null,
   "id": "3442b6d8",
   "metadata": {},
   "outputs": [],
   "source": [
    "driver webdriver.Chrome(r\"C:/Users/balan/Downloads/chromedriver win32/chronedriver.exe\")\n",
    "delay 5\n",
    "try:\n",
    "    driver.get(\"https://www.amazon.in/\")\n",
    "    WebDriverWait(driver, delay).until(EC.presence of element located((By.CLASS NAME, 'a-section a-spacing-mini')))\n",
    "except TimeoutException as e:\n",
    "\n",
    "print(element)\n",
    "print(\"Exception Raised: \", e)"
   ]
  }
 ],
 "metadata": {
  "kernelspec": {
   "display_name": "Python 3 (ipykernel)",
   "language": "python",
   "name": "python3"
  },
  "language_info": {
   "codemirror_mode": {
    "name": "ipython",
    "version": 3
   },
   "file_extension": ".py",
   "mimetype": "text/x-python",
   "name": "python",
   "nbconvert_exporter": "python",
   "pygments_lexer": "ipython3",
   "version": "3.9.12"
  }
 },
 "nbformat": 4,
 "nbformat_minor": 5
}
