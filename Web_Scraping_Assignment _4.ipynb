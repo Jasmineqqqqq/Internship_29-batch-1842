{
 "cells": [
  {
   "cell_type": "code",
   "execution_count": 1,
   "id": "213b2c8a",
   "metadata": {},
   "outputs": [],
   "source": [
    "import selenium\n",
    "import time\n",
    "from selenium import webdriver\n",
    "import pandas as pd\n",
    "import warnings\n",
    "warnings.filterwarnings(\"ignore\")\n",
    "\n",
    "from selenium.webdriver.common.keys import Keys\n",
    "from selenium.webdriver.chrome.options import Options\n",
    "from selenium.webdriver.support.ui import WebDriverWait\n",
    "from selenium.webdriver.support import expected_conditions as EC\n",
    "from getpass import getpass\n",
    "from selenium.common.exceptions import NoSuchElementException\n",
    "\n",
    "from selenium.webdriver.support.ui import WebDriverWait\n",
    "\n",
    "from selenium.webdriver.chrome.service import Service #always import this or web driver gives truble\n",
    "from selenium.webdriver.common.by import By #always import this or web driver gives truble\n",
    "from selenium.webdriver.support.select import Select #always import this\n",
    "import time\n",
    "from selenium.common.exceptions import ElementNotInteractableException\n",
    "from selenium.common.exceptions import SessionNotCreatedException #Importing Exception\n",
    "#happen due to slow internet connection, loading ime\n",
    "\n",
    "from selenium.webdriver.support import expected_conditions as EC\n",
    "from selenium.common.exceptions import ElementNotInteractableException\n",
    "from selenium.common.exceptions import TimeoutException\n",
    "from selenium.common.exceptions import StaleElementReferenceException, NoSuchElementException\n",
    "import re\n",
    "import requests\n",
    "\n",
    "from selenium.common.exceptions import StaleElementReferenceException #use when first clickable, now not clickable\n",
    "from selenium import webdriver\n",
    "\n",
    "from selenium.webdriver.support import expected_conditions as EC\n",
    "from selenium.webdriver.common.by import By\n"
   ]
  },
  {
   "cell_type": "code",
   "execution_count": null,
   "id": "a07617ea",
   "metadata": {},
   "outputs": [],
   "source": [
    "#2. Scrape the details team India’s international fixtures from bcci.tv.\n",
    "#Url = https://www.bcci.tv/.\n",
    "#You need to find following details:\n",
    "#A) Match title (I.e. 1\n",
    "#st ODI)\n",
    "#B) Series\n",
    "#C) Place\n",
    "#D) Date\n",
    "#E) Time\n",
    "#Note: - From bcci.tv home page you have reach to the international fixture page through code."
   ]
  },
  {
   "cell_type": "code",
   "execution_count": 54,
   "id": "d4b913a7",
   "metadata": {},
   "outputs": [],
   "source": [
    "driver = webdriver.Chrome('chromedriver.exe')"
   ]
  },
  {
   "cell_type": "code",
   "execution_count": 55,
   "id": "e060bcb1",
   "metadata": {},
   "outputs": [],
   "source": [
    "url = 'https://www.bcci.tv/'\n",
    "driver.get(url)"
   ]
  },
  {
   "cell_type": "code",
   "execution_count": 56,
   "id": "133f60b1",
   "metadata": {},
   "outputs": [],
   "source": [
    "#going to international fixture page\n",
    "fixture_click = driver.find_element(By.XPATH, \"/html/body/nav/div[1]/div[2]/ul[1]/li[2]/a\")\n",
    "fixture_click.click()\n",
    "time.sleep(5)"
   ]
  },
  {
   "cell_type": "code",
   "execution_count": 57,
   "id": "d72a77a2",
   "metadata": {},
   "outputs": [],
   "source": [
    "Series=[]\n",
    "Match_Title=[]\n",
    "Place=[]\n",
    "Date=[]\n",
    "Time=[]\n",
    "time.sleep(3)"
   ]
  },
  {
   "cell_type": "code",
   "execution_count": 110,
   "id": "f0d7781b",
   "metadata": {},
   "outputs": [],
   "source": [
    "Serie=driver.find_elements(By.CLASS_NAME,\"fix-text\")\n",
    "for i in Serie[1:10]:\n",
    "    Series.append(i.text)"
   ]
  },
  {
   "cell_type": "code",
   "execution_count": 111,
   "id": "27035423",
   "metadata": {},
   "outputs": [
    {
     "name": "stdout",
     "output_type": "stream",
     "text": [
      "['INDIA TOUR OF WEST INDIES T20 SERIES 2022', '', \"COMMONWEALTH GAMES WOMEN'S CRICKET 2022\", '', 'INDIA TOUR OF ZIMBABWE ODI SERIES 2022', '', 'INDIA TOUR OF ZIMBABWE ODI SERIES 2022', '', 'INDIA TOUR OF ZIMBABWE ODI SERIES 2022', 'INDIA TOUR OF WEST INDIES T20 SERIES 2022', '', \"COMMONWEALTH GAMES WOMEN'S CRICKET 2022\", '', 'INDIA TOUR OF ZIMBABWE ODI SERIES 2022', '', 'INDIA TOUR OF ZIMBABWE ODI SERIES 2022', '', 'INDIA TOUR OF ZIMBABWE ODI SERIES 2022', 'INDIA TOUR OF WEST INDIES T20 SERIES 2022', '', \"COMMONWEALTH GAMES WOMEN'S CRICKET 2022\", '', 'INDIA TOUR OF ZIMBABWE ODI SERIES 2022', '', 'INDIA TOUR OF ZIMBABWE ODI SERIES 2022', '', 'INDIA TOUR OF ZIMBABWE ODI SERIES 2022']\n"
     ]
    }
   ],
   "source": [
    "print(Series)"
   ]
  },
  {
   "cell_type": "code",
   "execution_count": 112,
   "id": "149dbb7e",
   "metadata": {},
   "outputs": [],
   "source": [
    "from selenium.common.exceptions import ElementNotInteractableException # Importing Exception\n",
    "time.sleep(5)\n",
    "try:\n",
    "    element = driver.find_element(By.XPATH,'//span[@class=\"matchOrderText ng-binding ng-scope\"]')\n",
    "    element.click()\n",
    "except ElementNotInteractableException as e:\n",
    "    print(\"Exception Raised: \", e)\n",
    "    element=driver.find_element(By.XPATH,'//span[@class=\"matchOrderText ng-binding ng-scope\"]')\n",
    "    driver.get(element.get_attribute('href'))"
   ]
  },
  {
   "cell_type": "code",
   "execution_count": 113,
   "id": "c6be41d8",
   "metadata": {},
   "outputs": [],
   "source": [
    "Match_Titles=driver.find_elements(By.XPATH,'//span[@class=\"matchOrderText ng-binding ng-scope\"]')\n",
    "for i in Match_Titles[1:10]:\n",
    "    Match_Title.append(i.text) "
   ]
  },
  {
   "cell_type": "code",
   "execution_count": 114,
   "id": "eea111f2",
   "metadata": {},
   "outputs": [
    {
     "name": "stdout",
     "output_type": "stream",
     "text": [
      "['Final - Edgbaston, Birmingham\\nMatch Centre', '1st ODI - Harare Sports Club, Harare\\nMatch Centre', '2nd ODI - Harare Sports Club, Harare\\nMatch Centre', '3rd ODI - Harare Sports Club, Harare\\nMatch Centre', 'Final -', '1st ODI -', '2nd ODI -', '3rd ODI -', 'Final -', '1st ODI -', '2nd ODI -', '3rd ODI -', 'Final -', '1st ODI -', '2nd ODI -', '3rd ODI -']\n"
     ]
    }
   ],
   "source": [
    "print(Match_Title)"
   ]
  },
  {
   "cell_type": "code",
   "execution_count": 115,
   "id": "7948cd2f",
   "metadata": {},
   "outputs": [],
   "source": [
    "Places=driver.find_elements(By.XPATH, '//span[@class=\"ng-binding ng-scope\"]')\n",
    "for i in Places[1:10]:\n",
    "    Place.append(i.text)"
   ]
  },
  {
   "cell_type": "code",
   "execution_count": 116,
   "id": "585988bf",
   "metadata": {},
   "outputs": [
    {
     "name": "stdout",
     "output_type": "stream",
     "text": [
      "['Edgbaston,', 'Harare Sports Club,', 'Harare Sports Club,', 'Harare Sports Club,', 'Edgbaston,', 'Harare Sports Club,', 'Harare Sports Club,', 'Harare Sports Club,', 'Edgbaston,', 'Harare Sports Club,', 'Harare Sports Club,', 'Harare Sports Club,', 'Edgbaston,', 'Harare Sports Club,', 'Harare Sports Club,', 'Harare Sports Club,']\n"
     ]
    }
   ],
   "source": [
    "print(Place)"
   ]
  },
  {
   "cell_type": "code",
   "execution_count": 108,
   "id": "e0ff850c",
   "metadata": {},
   "outputs": [],
   "source": [
    "Dates=driver.find_elements(By.XPATH, '//div[@class=\"match-card-left match-schedule\"]')\n",
    "for i in Dates[1:10]:\n",
    "    Date.append(i.text)"
   ]
  },
  {
   "cell_type": "code",
   "execution_count": 109,
   "id": "2c47b71f",
   "metadata": {},
   "outputs": [
    {
     "name": "stdout",
     "output_type": "stream",
     "text": [
      "['7 AUG 2022', '18 AUG 2022', '20 AUG 2022', '22 AUG 2022', '7 AUG 2022', '18 AUG 2022', '20 AUG 2022', '22 AUG 2022', '7 AUG 2022', '18 AUG 2022', '20 AUG 2022', '22 AUG 2022', '7 AUG 2022', '18 AUG 2022', '20 AUG 2022', '22 AUG 2022', '7 AUG 2022', '18 AUG 2022', '20 AUG 2022', '22 AUG 2022', '7 AUG 2022', '18 AUG 2022', '20 AUG 2022', '22 AUG 2022']\n"
     ]
    }
   ],
   "source": [
    "print(Date)"
   ]
  },
  {
   "cell_type": "code",
   "execution_count": 117,
   "id": "9b3b465a",
   "metadata": {},
   "outputs": [],
   "source": [
    "Times=driver.find_elements(By.XPATH, '//h5[@class=\"text-right ng-binding\"]')\n",
    "for i in Times[1:10]:\n",
    "    Time.append(i.text) "
   ]
  },
  {
   "cell_type": "code",
   "execution_count": 118,
   "id": "8d132fe8",
   "metadata": {},
   "outputs": [
    {
     "name": "stdout",
     "output_type": "stream",
     "text": [
      "['9:00 AM PDT', '12:15 AM PDT', '12:15 AM PDT', '12:15 AM PDT', '9:00 AM PDT', '12:15 AM PDT', '12:15 AM PDT', '12:15 AM PDT']\n"
     ]
    }
   ],
   "source": [
    "print(Time)"
   ]
  },
  {
   "cell_type": "code",
   "execution_count": 119,
   "id": "03ac2617",
   "metadata": {},
   "outputs": [
    {
     "name": "stdout",
     "output_type": "stream",
     "text": [
      "27 16 16\n"
     ]
    },
    {
     "data": {
      "text/plain": [
       "(None, 24, 8)"
      ]
     },
     "execution_count": 119,
     "metadata": {},
     "output_type": "execute_result"
    }
   ],
   "source": [
    "print(len(Series),len(Match_Title),len(Place)), len(Date), len(Time)"
   ]
  },
  {
   "cell_type": "code",
   "execution_count": null,
   "id": "639931e3",
   "metadata": {},
   "outputs": [],
   "source": [
    "Series=[]\n",
    "Match_Title=[]\n",
    "Place=[]\n",
    "Date=[]\n",
    "Time=[]\n",
    "time.sleep(3)"
   ]
  },
  {
   "cell_type": "code",
   "execution_count": 120,
   "id": "56245d86",
   "metadata": {},
   "outputs": [],
   "source": [
    "start=0\n",
    "end=1\n",
    "for page in range(start,end):\n",
    "    Match_Titles=driver.find_elements(By.XPATH,'//span[@class=\"matchOrderText ng-binding ng-scope\"]')\n",
    "for i in Match_Titles[1:10]:\n",
    "    Match_Title.append(i.text) \n",
    "    Places=driver.find_elements(By.XPATH, '//span[@class=\"ng-binding ng-scope\"]')\n",
    "for i in Places[1:10]:\n",
    "    Place.append(i.text)\n",
    "    Dates=driver.find_elements(By.XPATH, '//div[@class=\"match-card-left match-schedule\"]')\n",
    "for i in Dates[1:10]:\n",
    "    Date.append(i.text)\n",
    "    Times=driver.find_elements(By.XPATH, '//h5[@class=\"text-right ng-binding\"]')\n",
    "for i in Times[1:10]:\n",
    "    Time.append(i.text) "
   ]
  },
  {
   "cell_type": "code",
   "execution_count": 121,
   "id": "077539ab",
   "metadata": {},
   "outputs": [
    {
     "name": "stdout",
     "output_type": "stream",
     "text": [
      "27 20 20\n"
     ]
    },
    {
     "data": {
      "text/plain": [
       "(None, 28, 12)"
      ]
     },
     "execution_count": 121,
     "metadata": {},
     "output_type": "execute_result"
    }
   ],
   "source": [
    "print(len(Series),len(Match_Title),len(Place)), len(Date), len(Time)"
   ]
  },
  {
   "cell_type": "code",
   "execution_count": 132,
   "id": "4883a697",
   "metadata": {},
   "outputs": [],
   "source": [
    "#q3Scrape the details of selenium exception from guru99.com.\n",
    "#Url = https://www.guru99.com/\n",
    "#You need to find following details:\n",
    "#A) Name\n",
    "#B) Description\n",
    "#Note: - From guru99 home page you have to reach to selenium exception handling page through code."
   ]
  },
  {
   "cell_type": "code",
   "execution_count": null,
   "id": "3c88eb54",
   "metadata": {},
   "outputs": [],
   "source": [
    "import selenium\n",
    "import time\n",
    "from selenium import webdriver\n",
    "import pandas as pd\n",
    "import warnings\n",
    "warnings.filterwarnings(\"ignore\")\n",
    "\n",
    "from selenium.webdriver.common.keys import Keys\n",
    "from selenium.webdriver.chrome.options import Options\n",
    "from selenium.webdriver.support.ui import WebDriverWait\n",
    "from selenium.webdriver.support import expected_conditions as EC\n",
    "from getpass import getpass\n",
    "from selenium.common.exceptions import NoSuchElementException\n",
    "\n",
    "from selenium.webdriver.support.ui import WebDriverWait\n",
    "\n",
    "from selenium.webdriver.chrome.service import Service #always import this or web driver gives truble\n",
    "from selenium.webdriver.common.by import By #always import this or web driver gives truble\n",
    "from selenium.webdriver.support.select import Select #always import this\n",
    "import time\n",
    "from selenium.common.exceptions import ElementNotInteractableException\n",
    "from selenium.common.exceptions import SessionNotCreatedException #Importing Exception\n",
    "#happen due to slow internet connection, loading ime\n",
    "\n",
    "from selenium.webdriver.support import expected_conditions as EC\n",
    "from selenium.common.exceptions import ElementNotInteractableException\n",
    "from selenium.common.exceptions import TimeoutException\n",
    "from selenium.common.exceptions import StaleElementReferenceException, NoSuchElementException\n",
    "import re\n",
    "import requests\n",
    "\n",
    "from selenium.common.exceptions import StaleElementReferenceException #use when first clickable, now not clickable\n",
    "from selenium import webdriver\n",
    "\n",
    "from selenium.webdriver.support import expected_conditions as EC\n",
    "from selenium.webdriver.common.by import By\n"
   ]
  },
  {
   "cell_type": "code",
   "execution_count": 150,
   "id": "e48150b2",
   "metadata": {},
   "outputs": [
    {
     "name": "stdout",
     "output_type": "stream",
     "text": [
      "Requirement already satisfied: selenium in c:\\anaconda 2022\\lib\\site-packages (4.3.0)"
     ]
    },
    {
     "name": "stderr",
     "output_type": "stream",
     "text": [
      "WARNING: Ignoring invalid distribution -cikit-learn (c:\\anaconda 2022\\lib\\site-packages)\n"
     ]
    },
    {
     "name": "stdout",
     "output_type": "stream",
     "text": [
      "\n",
      "Requirement already satisfied: bs4 in c:\\anaconda 2022\\lib\\site-packages (0.0.1)\n",
      "Requirement already satisfied: trio~=0.17 in c:\\anaconda 2022\\lib\\site-packages (from selenium) (0.21.0)\n",
      "Requirement already satisfied: urllib3[secure,socks]~=1.26 in c:\\anaconda 2022\\lib\\site-packages (from selenium) (1.26.9)\n",
      "Requirement already satisfied: trio-websocket~=0.9 in c:\\anaconda 2022\\lib\\site-packages (from selenium) (0.9.2)\n",
      "Requirement already satisfied: beautifulsoup4 in c:\\anaconda 2022\\lib\\site-packages (from bs4) (4.11.1)\n",
      "Requirement already satisfied: attrs>=19.2.0 in c:\\anaconda 2022\\lib\\site-packages (from trio~=0.17->selenium) (21.4.0)\n"
     ]
    },
    {
     "name": "stderr",
     "output_type": "stream",
     "text": [
      "WARNING: Ignoring invalid distribution -cikit-learn (c:\\anaconda 2022\\lib\\site-packages)\n",
      "WARNING: Ignoring invalid distribution -cikit-learn (c:\\anaconda 2022\\lib\\site-packages)\n",
      "WARNING: Ignoring invalid distribution -cikit-learn (c:\\anaconda 2022\\lib\\site-packages)\n",
      "WARNING: Ignoring invalid distribution -cikit-learn (c:\\anaconda 2022\\lib\\site-packages)\n",
      "WARNING: Ignoring invalid distribution -cikit-learn (c:\\anaconda 2022\\lib\\site-packages)\n"
     ]
    },
    {
     "name": "stdout",
     "output_type": "stream",
     "text": [
      "Requirement already satisfied: sniffio in c:\\anaconda 2022\\lib\\site-packages (from trio~=0.17->selenium) (1.2.0)\n",
      "Requirement already satisfied: outcome in c:\\anaconda 2022\\lib\\site-packages (from trio~=0.17->selenium) (1.2.0)\n",
      "Requirement already satisfied: cffi>=1.14 in c:\\anaconda 2022\\lib\\site-packages (from trio~=0.17->selenium) (1.15.0)\n",
      "Requirement already satisfied: sortedcontainers in c:\\anaconda 2022\\lib\\site-packages (from trio~=0.17->selenium) (2.4.0)\n",
      "Requirement already satisfied: idna in c:\\anaconda 2022\\lib\\site-packages (from trio~=0.17->selenium) (3.3)\n",
      "Requirement already satisfied: async-generator>=1.9 in c:\\anaconda 2022\\lib\\site-packages (from trio~=0.17->selenium) (1.10)\n",
      "Requirement already satisfied: wsproto>=0.14 in c:\\anaconda 2022\\lib\\site-packages (from trio-websocket~=0.9->selenium) (1.1.0)\n",
      "Requirement already satisfied: PySocks!=1.5.7,<2.0,>=1.5.6 in c:\\anaconda 2022\\lib\\site-packages (from urllib3[secure,socks]~=1.26->selenium) (1.7.1)\n",
      "Requirement already satisfied: pyOpenSSL>=0.14 in c:\\anaconda 2022\\lib\\site-packages (from urllib3[secure,socks]~=1.26->selenium) (21.0.0)\n",
      "Requirement already satisfied: cryptography>=1.3.4 in c:\\anaconda 2022\\lib\\site-packages (from urllib3[secure,socks]~=1.26->selenium) (3.4.8)\n",
      "Requirement already satisfied: certifi in c:\\anaconda 2022\\lib\\site-packages (from urllib3[secure,socks]~=1.26->selenium) (2021.10.8)\n",
      "Requirement already satisfied: soupsieve>1.2 in c:\\anaconda 2022\\lib\\site-packages (from beautifulsoup4->bs4) (2.3.1)\n",
      "Requirement already satisfied: pycparser in c:\\anaconda 2022\\lib\\site-packages (from cffi>=1.14->trio~=0.17->selenium) (2.21)\n",
      "Requirement already satisfied: six>=1.5.2 in c:\\anaconda 2022\\lib\\site-packages (from pyOpenSSL>=0.14->urllib3[secure,socks]~=1.26->selenium) (1.16.0)\n",
      "Requirement already satisfied: h11<1,>=0.9.0 in c:\\anaconda 2022\\lib\\site-packages (from wsproto>=0.14->trio-websocket~=0.9->selenium) (0.13.0)\n",
      "\n",
      "[notice] A new release of pip available: 22.1.2 -> 22.2.2\n",
      "[notice] To update, run: python.exe -m pip install --upgrade pip\n"
     ]
    }
   ],
   "source": [
    "!pip install selenium bs4"
   ]
  },
  {
   "cell_type": "code",
   "execution_count": 2,
   "id": "3872298a",
   "metadata": {},
   "outputs": [],
   "source": [
    "from selenium.common.exceptions import SessionNotCreatedException #Importing Exception\n",
    "try: #to update browser\n",
    "    driver = webdriver.Chrome('chromedriver.exe')\n",
    "    driver.get(\"https://www.guru99.com/\")\n",
    "except SessionNotCreatedException as e:\n",
    "    print(\"Exception Raised:\" , e )\n",
    "    driver = webdriver.Chrome('chromedriver.exe')\n",
    "    driver.get(\"https://www.guru99.com/\")"
   ]
  },
  {
   "cell_type": "code",
   "execution_count": 3,
   "id": "95b770b1",
   "metadata": {},
   "outputs": [],
   "source": [
    "driver = webdriver.Chrome('chromedriver.exe')\n"
   ]
  },
  {
   "cell_type": "code",
   "execution_count": 4,
   "id": "9b5898da",
   "metadata": {},
   "outputs": [],
   "source": [
    "url = 'https://www.guru99.com/'\n",
    "driver.get(url)"
   ]
  },
  {
   "cell_type": "code",
   "execution_count": null,
   "id": "769465dd",
   "metadata": {},
   "outputs": [],
   "source": [
    "from selenium.common.exceptions import SessionNotCreatedException #Importing Exception\n",
    "try: #to update browser\n",
    "    driver = webdriver.Chrome('chromedriver.exe')\n",
    "    driver.get(\"https://www.guru99.com/\")\n",
    "except SessionNotCreatedException as e:\n",
    "    print(\"Exception Raised:\" , e )\n",
    "    driver = webdriver.Chrome('chromedriver.exe')\n",
    "    driver.get(\"https://www.guru99.com/\")"
   ]
  },
  {
   "cell_type": "code",
   "execution_count": 5,
   "id": "dcfef5e5",
   "metadata": {},
   "outputs": [],
   "source": [
    "#going to international fixture page\n",
    "selenium_click = driver.find_element(By.XPATH, \"/html/body/div[1]/div/div/div/main/div/article/div/div[1]/div[2]/div[1]/div/ul[1]/li[3]/a\")\n",
    "selenium_click.click()\n",
    "time.sleep(5)"
   ]
  },
  {
   "cell_type": "code",
   "execution_count": 7,
   "id": "80bf7e22",
   "metadata": {},
   "outputs": [
    {
     "ename": "WebDriverException",
     "evalue": "Message: unknown error: cannot determine loading status\nfrom unknown error: unexpected command response\n  (Session info: chrome=104.0.5112.79)\nStacktrace:\nBacktrace:\n\tOrdinal0 [0x00336463+2188387]\n\tOrdinal0 [0x002CE461+1762401]\n\tOrdinal0 [0x001E3D78+802168]\n\tOrdinal0 [0x001D7210+750096]\n\tOrdinal0 [0x001D675A+747354]\n\tOrdinal0 [0x001D5D3F+744767]\n\tOrdinal0 [0x001D4C28+740392]\n\tOrdinal0 [0x001D5228+741928]\n\tOrdinal0 [0x001DF153+782675]\n\tOrdinal0 [0x001E9FBB+827323]\n\tOrdinal0 [0x001ED310+840464]\n\tOrdinal0 [0x001D54F6+742646]\n\tOrdinal0 [0x001E9BF3+826355]\n\tOrdinal0 [0x0023CF6D+1167213]\n\tOrdinal0 [0x0022C5F6+1099254]\n\tOrdinal0 [0x00206BE0+945120]\n\tOrdinal0 [0x00207AD6+948950]\n\tGetHandleVerifier [0x005D71F2+2712546]\n\tGetHandleVerifier [0x005C886D+2652765]\n\tGetHandleVerifier [0x003C002A+520730]\n\tGetHandleVerifier [0x003BEE06+516086]\n\tOrdinal0 [0x002D468B+1787531]\n\tOrdinal0 [0x002D8E88+1805960]\n\tOrdinal0 [0x002D8F75+1806197]\n\tOrdinal0 [0x002E1DF1+1842673]\n\tBaseThreadInitThunk [0x76A1FA29+25]\n\tRtlGetAppContainerNamedObjectPath [0x77857A9E+286]\n\tRtlGetAppContainerNamedObjectPath [0x77857A6E+238]\n",
     "output_type": "error",
     "traceback": [
      "\u001b[1;31m---------------------------------------------------------------------------\u001b[0m",
      "\u001b[1;31mWebDriverException\u001b[0m                        Traceback (most recent call last)",
      "Input \u001b[1;32mIn [7]\u001b[0m, in \u001b[0;36m<cell line: 3>\u001b[1;34m()\u001b[0m\n\u001b[0;32m      1\u001b[0m \u001b[38;5;66;03m#going to session handling selenium tutorial page\u001b[39;00m\n\u001b[0;32m      2\u001b[0m session_handling \u001b[38;5;241m=\u001b[39m driver\u001b[38;5;241m.\u001b[39mfind_element(By\u001b[38;5;241m.\u001b[39mXPATH, \u001b[38;5;124m\"\u001b[39m\u001b[38;5;124m/html/body/div[1]/div/div/div/main/div/article/div/div/table[5]/tbody/tr[34]/td[1]/a\u001b[39m\u001b[38;5;124m\"\u001b[39m)\n\u001b[1;32m----> 3\u001b[0m \u001b[43msession_handling\u001b[49m\u001b[38;5;241;43m.\u001b[39;49m\u001b[43mclick\u001b[49m\u001b[43m(\u001b[49m\u001b[43m)\u001b[49m\n\u001b[0;32m      4\u001b[0m time\u001b[38;5;241m.\u001b[39msleep(\u001b[38;5;241m5\u001b[39m)\n",
      "File \u001b[1;32mC:\\anaconda 2022\\lib\\site-packages\\selenium\\webdriver\\remote\\webelement.py:88\u001b[0m, in \u001b[0;36mWebElement.click\u001b[1;34m(self)\u001b[0m\n\u001b[0;32m     86\u001b[0m \u001b[38;5;28;01mdef\u001b[39;00m \u001b[38;5;21mclick\u001b[39m(\u001b[38;5;28mself\u001b[39m) \u001b[38;5;241m-\u001b[39m\u001b[38;5;241m>\u001b[39m \u001b[38;5;28;01mNone\u001b[39;00m:\n\u001b[0;32m     87\u001b[0m     \u001b[38;5;124;03m\"\"\"Clicks the element.\"\"\"\u001b[39;00m\n\u001b[1;32m---> 88\u001b[0m     \u001b[38;5;28;43mself\u001b[39;49m\u001b[38;5;241;43m.\u001b[39;49m\u001b[43m_execute\u001b[49m\u001b[43m(\u001b[49m\u001b[43mCommand\u001b[49m\u001b[38;5;241;43m.\u001b[39;49m\u001b[43mCLICK_ELEMENT\u001b[49m\u001b[43m)\u001b[49m\n",
      "File \u001b[1;32mC:\\anaconda 2022\\lib\\site-packages\\selenium\\webdriver\\remote\\webelement.py:396\u001b[0m, in \u001b[0;36mWebElement._execute\u001b[1;34m(self, command, params)\u001b[0m\n\u001b[0;32m    394\u001b[0m     params \u001b[38;5;241m=\u001b[39m {}\n\u001b[0;32m    395\u001b[0m params[\u001b[38;5;124m'\u001b[39m\u001b[38;5;124mid\u001b[39m\u001b[38;5;124m'\u001b[39m] \u001b[38;5;241m=\u001b[39m \u001b[38;5;28mself\u001b[39m\u001b[38;5;241m.\u001b[39m_id\n\u001b[1;32m--> 396\u001b[0m \u001b[38;5;28;01mreturn\u001b[39;00m \u001b[38;5;28;43mself\u001b[39;49m\u001b[38;5;241;43m.\u001b[39;49m\u001b[43m_parent\u001b[49m\u001b[38;5;241;43m.\u001b[39;49m\u001b[43mexecute\u001b[49m\u001b[43m(\u001b[49m\u001b[43mcommand\u001b[49m\u001b[43m,\u001b[49m\u001b[43m \u001b[49m\u001b[43mparams\u001b[49m\u001b[43m)\u001b[49m\n",
      "File \u001b[1;32mC:\\anaconda 2022\\lib\\site-packages\\selenium\\webdriver\\remote\\webdriver.py:435\u001b[0m, in \u001b[0;36mWebDriver.execute\u001b[1;34m(self, driver_command, params)\u001b[0m\n\u001b[0;32m    433\u001b[0m response \u001b[38;5;241m=\u001b[39m \u001b[38;5;28mself\u001b[39m\u001b[38;5;241m.\u001b[39mcommand_executor\u001b[38;5;241m.\u001b[39mexecute(driver_command, params)\n\u001b[0;32m    434\u001b[0m \u001b[38;5;28;01mif\u001b[39;00m response:\n\u001b[1;32m--> 435\u001b[0m     \u001b[38;5;28;43mself\u001b[39;49m\u001b[38;5;241;43m.\u001b[39;49m\u001b[43merror_handler\u001b[49m\u001b[38;5;241;43m.\u001b[39;49m\u001b[43mcheck_response\u001b[49m\u001b[43m(\u001b[49m\u001b[43mresponse\u001b[49m\u001b[43m)\u001b[49m\n\u001b[0;32m    436\u001b[0m     response[\u001b[38;5;124m'\u001b[39m\u001b[38;5;124mvalue\u001b[39m\u001b[38;5;124m'\u001b[39m] \u001b[38;5;241m=\u001b[39m \u001b[38;5;28mself\u001b[39m\u001b[38;5;241m.\u001b[39m_unwrap_value(\n\u001b[0;32m    437\u001b[0m         response\u001b[38;5;241m.\u001b[39mget(\u001b[38;5;124m'\u001b[39m\u001b[38;5;124mvalue\u001b[39m\u001b[38;5;124m'\u001b[39m, \u001b[38;5;28;01mNone\u001b[39;00m))\n\u001b[0;32m    438\u001b[0m     \u001b[38;5;28;01mreturn\u001b[39;00m response\n",
      "File \u001b[1;32mC:\\anaconda 2022\\lib\\site-packages\\selenium\\webdriver\\remote\\errorhandler.py:247\u001b[0m, in \u001b[0;36mErrorHandler.check_response\u001b[1;34m(self, response)\u001b[0m\n\u001b[0;32m    245\u001b[0m         alert_text \u001b[38;5;241m=\u001b[39m value[\u001b[38;5;124m'\u001b[39m\u001b[38;5;124malert\u001b[39m\u001b[38;5;124m'\u001b[39m]\u001b[38;5;241m.\u001b[39mget(\u001b[38;5;124m'\u001b[39m\u001b[38;5;124mtext\u001b[39m\u001b[38;5;124m'\u001b[39m)\n\u001b[0;32m    246\u001b[0m     \u001b[38;5;28;01mraise\u001b[39;00m exception_class(message, screen, stacktrace, alert_text)  \u001b[38;5;66;03m# type: ignore[call-arg]  # mypy is not smart enough here\u001b[39;00m\n\u001b[1;32m--> 247\u001b[0m \u001b[38;5;28;01mraise\u001b[39;00m exception_class(message, screen, stacktrace)\n",
      "\u001b[1;31mWebDriverException\u001b[0m: Message: unknown error: cannot determine loading status\nfrom unknown error: unexpected command response\n  (Session info: chrome=104.0.5112.79)\nStacktrace:\nBacktrace:\n\tOrdinal0 [0x00336463+2188387]\n\tOrdinal0 [0x002CE461+1762401]\n\tOrdinal0 [0x001E3D78+802168]\n\tOrdinal0 [0x001D7210+750096]\n\tOrdinal0 [0x001D675A+747354]\n\tOrdinal0 [0x001D5D3F+744767]\n\tOrdinal0 [0x001D4C28+740392]\n\tOrdinal0 [0x001D5228+741928]\n\tOrdinal0 [0x001DF153+782675]\n\tOrdinal0 [0x001E9FBB+827323]\n\tOrdinal0 [0x001ED310+840464]\n\tOrdinal0 [0x001D54F6+742646]\n\tOrdinal0 [0x001E9BF3+826355]\n\tOrdinal0 [0x0023CF6D+1167213]\n\tOrdinal0 [0x0022C5F6+1099254]\n\tOrdinal0 [0x00206BE0+945120]\n\tOrdinal0 [0x00207AD6+948950]\n\tGetHandleVerifier [0x005D71F2+2712546]\n\tGetHandleVerifier [0x005C886D+2652765]\n\tGetHandleVerifier [0x003C002A+520730]\n\tGetHandleVerifier [0x003BEE06+516086]\n\tOrdinal0 [0x002D468B+1787531]\n\tOrdinal0 [0x002D8E88+1805960]\n\tOrdinal0 [0x002D8F75+1806197]\n\tOrdinal0 [0x002E1DF1+1842673]\n\tBaseThreadInitThunk [0x76A1FA29+25]\n\tRtlGetAppContainerNamedObjectPath [0x77857A9E+286]\n\tRtlGetAppContainerNamedObjectPath [0x77857A6E+238]\n"
     ]
    }
   ],
   "source": [
    "#going to session handling selenium tutorial page\n",
    "session_handling = driver.find_element(By.XPATH, \"/html/body/div[1]/div/div/div/main/div/article/div/div/table[5]/tbody/tr[34]/td[1]/a\")\n",
    "session_handling.click()\n",
    "time.sleep(5)"
   ]
  },
  {
   "cell_type": "code",
   "execution_count": 10,
   "id": "c835a2b7",
   "metadata": {},
   "outputs": [],
   "source": [
    "#. Scrape the details of State-wise GDP of India from statisticstime.com.\n",
    "#Url = http://statisticstimes.com/\n",
    "#You have to find following details:\n",
    "#A) Rank\n",
    "#B) State\n",
    "#C) GSDP(18-19)\n",
    "#D) GSDP(17-18)\n",
    "#E) Share(2017)\n",
    "#F) GDP($ billion)\n",
    "#Note: - From statisticstimes home page you have to reach to economy page through code."
   ]
  },
  {
   "cell_type": "code",
   "execution_count": 9,
   "id": "7a4aeb46",
   "metadata": {},
   "outputs": [],
   "source": [
    "import selenium\n",
    "import time\n",
    "from selenium import webdriver\n",
    "import pandas as pd\n",
    "import warnings\n",
    "warnings.filterwarnings(\"ignore\")\n",
    "\n",
    "from selenium.webdriver.common.keys import Keys\n",
    "from selenium.webdriver.chrome.options import Options\n",
    "from selenium.webdriver.support.ui import WebDriverWait\n",
    "from selenium.webdriver.support import expected_conditions as EC\n",
    "from getpass import getpass\n",
    "from selenium.common.exceptions import NoSuchElementException\n",
    "\n",
    "from selenium.webdriver.support.ui import WebDriverWait\n",
    "\n",
    "from selenium.webdriver.chrome.service import Service #always import this or web driver gives truble\n",
    "from selenium.webdriver.common.by import By #always import this or web driver gives truble\n",
    "from selenium.webdriver.support.select import Select #always import this\n",
    "import time\n",
    "from selenium.common.exceptions import ElementNotInteractableException\n",
    "from selenium.common.exceptions import SessionNotCreatedException #Importing Exception\n",
    "#happen due to slow internet connection, loading ime\n",
    "\n",
    "from selenium.webdriver.support import expected_conditions as EC\n",
    "from selenium.common.exceptions import ElementNotInteractableException\n",
    "from selenium.common.exceptions import TimeoutException\n",
    "from selenium.common.exceptions import StaleElementReferenceException, NoSuchElementException\n",
    "import re\n",
    "import requests\n",
    "\n",
    "from selenium.common.exceptions import StaleElementReferenceException #use when first clickable, now not clickable\n",
    "from selenium import webdriver\n",
    "\n",
    "from selenium.webdriver.support import expected_conditions as EC\n",
    "from selenium.webdriver.common.by import By"
   ]
  },
  {
   "cell_type": "code",
   "execution_count": 11,
   "id": "0fc5485c",
   "metadata": {},
   "outputs": [],
   "source": [
    "driver = webdriver.Chrome('chromedriver.exe')"
   ]
  },
  {
   "cell_type": "code",
   "execution_count": 12,
   "id": "b8829922",
   "metadata": {},
   "outputs": [],
   "source": [
    "url = 'http://statisticstimes.com/'\n",
    "driver.get(url)"
   ]
  },
  {
   "cell_type": "code",
   "execution_count": 13,
   "id": "44b6d7f4",
   "metadata": {},
   "outputs": [],
   "source": [
    "from selenium.common.exceptions import SessionNotCreatedException #Importing Exception\n",
    "try: #to update browser\n",
    "    driver = webdriver.Chrome('chromedriver.exe')\n",
    "    driver.get(\"http://statisticstimes.com//\")\n",
    "except SessionNotCreatedException as e:\n",
    "    print(\"Exception Raised:\" , e )\n",
    "    driver = webdriver.Chrome('chromedriver.exe')\n",
    "    driver.get(\"http://statisticstimes.com/\")"
   ]
  },
  {
   "cell_type": "code",
   "execution_count": 14,
   "id": "37ede5c0",
   "metadata": {},
   "outputs": [],
   "source": [
    "#going to economy page page\n",
    "selenium_click = driver.find_element(By.XPATH, \"/html/body/div[2]/div[1]/div[2]/div[2]/button\")\n",
    "selenium_click.click()\n",
    "time.sleep(5)"
   ]
  },
  {
   "cell_type": "code",
   "execution_count": 16,
   "id": "9bc55f86",
   "metadata": {},
   "outputs": [
    {
     "ename": "ElementNotInteractableException",
     "evalue": "Message: element not interactable\n  (Session info: chrome=104.0.5112.79)\nStacktrace:\nBacktrace:\n\tOrdinal0 [0x00336463+2188387]\n\tOrdinal0 [0x002CE461+1762401]\n\tOrdinal0 [0x001E3C40+801856]\n\tOrdinal0 [0x00212873+993395]\n\tOrdinal0 [0x00208613+951827]\n\tOrdinal0 [0x0022C7DC+1099740]\n\tOrdinal0 [0x00207FF4+950260]\n\tOrdinal0 [0x0022C9F4+1100276]\n\tOrdinal0 [0x0023CC22+1166370]\n\tOrdinal0 [0x0022C5F6+1099254]\n\tOrdinal0 [0x00206BE0+945120]\n\tOrdinal0 [0x00207AD6+948950]\n\tGetHandleVerifier [0x005D71F2+2712546]\n\tGetHandleVerifier [0x005C886D+2652765]\n\tGetHandleVerifier [0x003C002A+520730]\n\tGetHandleVerifier [0x003BEE06+516086]\n\tOrdinal0 [0x002D468B+1787531]\n\tOrdinal0 [0x002D8E88+1805960]\n\tOrdinal0 [0x002D8F75+1806197]\n\tOrdinal0 [0x002E1DF1+1842673]\n\tBaseThreadInitThunk [0x76A1FA29+25]\n\tRtlGetAppContainerNamedObjectPath [0x77857A9E+286]\n\tRtlGetAppContainerNamedObjectPath [0x77857A6E+238]\n",
     "output_type": "error",
     "traceback": [
      "\u001b[1;31m---------------------------------------------------------------------------\u001b[0m",
      "\u001b[1;31mElementNotInteractableException\u001b[0m           Traceback (most recent call last)",
      "Input \u001b[1;32mIn [16]\u001b[0m, in \u001b[0;36m<cell line: 2>\u001b[1;34m()\u001b[0m\n\u001b[0;32m      1\u001b[0m selenium_click \u001b[38;5;241m=\u001b[39m driver\u001b[38;5;241m.\u001b[39mfind_element(By\u001b[38;5;241m.\u001b[39mXPATH, \u001b[38;5;124m\"\u001b[39m\u001b[38;5;124m/html/body/div[2]/div[1]/div[2]/div[2]/div/a[3]\u001b[39m\u001b[38;5;124m\"\u001b[39m)\n\u001b[1;32m----> 2\u001b[0m \u001b[43mselenium_click\u001b[49m\u001b[38;5;241;43m.\u001b[39;49m\u001b[43mclick\u001b[49m\u001b[43m(\u001b[49m\u001b[43m)\u001b[49m\n\u001b[0;32m      3\u001b[0m time\u001b[38;5;241m.\u001b[39msleep(\u001b[38;5;241m5\u001b[39m)\n",
      "File \u001b[1;32mC:\\anaconda 2022\\lib\\site-packages\\selenium\\webdriver\\remote\\webelement.py:88\u001b[0m, in \u001b[0;36mWebElement.click\u001b[1;34m(self)\u001b[0m\n\u001b[0;32m     86\u001b[0m \u001b[38;5;28;01mdef\u001b[39;00m \u001b[38;5;21mclick\u001b[39m(\u001b[38;5;28mself\u001b[39m) \u001b[38;5;241m-\u001b[39m\u001b[38;5;241m>\u001b[39m \u001b[38;5;28;01mNone\u001b[39;00m:\n\u001b[0;32m     87\u001b[0m     \u001b[38;5;124;03m\"\"\"Clicks the element.\"\"\"\u001b[39;00m\n\u001b[1;32m---> 88\u001b[0m     \u001b[38;5;28;43mself\u001b[39;49m\u001b[38;5;241;43m.\u001b[39;49m\u001b[43m_execute\u001b[49m\u001b[43m(\u001b[49m\u001b[43mCommand\u001b[49m\u001b[38;5;241;43m.\u001b[39;49m\u001b[43mCLICK_ELEMENT\u001b[49m\u001b[43m)\u001b[49m\n",
      "File \u001b[1;32mC:\\anaconda 2022\\lib\\site-packages\\selenium\\webdriver\\remote\\webelement.py:396\u001b[0m, in \u001b[0;36mWebElement._execute\u001b[1;34m(self, command, params)\u001b[0m\n\u001b[0;32m    394\u001b[0m     params \u001b[38;5;241m=\u001b[39m {}\n\u001b[0;32m    395\u001b[0m params[\u001b[38;5;124m'\u001b[39m\u001b[38;5;124mid\u001b[39m\u001b[38;5;124m'\u001b[39m] \u001b[38;5;241m=\u001b[39m \u001b[38;5;28mself\u001b[39m\u001b[38;5;241m.\u001b[39m_id\n\u001b[1;32m--> 396\u001b[0m \u001b[38;5;28;01mreturn\u001b[39;00m \u001b[38;5;28;43mself\u001b[39;49m\u001b[38;5;241;43m.\u001b[39;49m\u001b[43m_parent\u001b[49m\u001b[38;5;241;43m.\u001b[39;49m\u001b[43mexecute\u001b[49m\u001b[43m(\u001b[49m\u001b[43mcommand\u001b[49m\u001b[43m,\u001b[49m\u001b[43m \u001b[49m\u001b[43mparams\u001b[49m\u001b[43m)\u001b[49m\n",
      "File \u001b[1;32mC:\\anaconda 2022\\lib\\site-packages\\selenium\\webdriver\\remote\\webdriver.py:435\u001b[0m, in \u001b[0;36mWebDriver.execute\u001b[1;34m(self, driver_command, params)\u001b[0m\n\u001b[0;32m    433\u001b[0m response \u001b[38;5;241m=\u001b[39m \u001b[38;5;28mself\u001b[39m\u001b[38;5;241m.\u001b[39mcommand_executor\u001b[38;5;241m.\u001b[39mexecute(driver_command, params)\n\u001b[0;32m    434\u001b[0m \u001b[38;5;28;01mif\u001b[39;00m response:\n\u001b[1;32m--> 435\u001b[0m     \u001b[38;5;28;43mself\u001b[39;49m\u001b[38;5;241;43m.\u001b[39;49m\u001b[43merror_handler\u001b[49m\u001b[38;5;241;43m.\u001b[39;49m\u001b[43mcheck_response\u001b[49m\u001b[43m(\u001b[49m\u001b[43mresponse\u001b[49m\u001b[43m)\u001b[49m\n\u001b[0;32m    436\u001b[0m     response[\u001b[38;5;124m'\u001b[39m\u001b[38;5;124mvalue\u001b[39m\u001b[38;5;124m'\u001b[39m] \u001b[38;5;241m=\u001b[39m \u001b[38;5;28mself\u001b[39m\u001b[38;5;241m.\u001b[39m_unwrap_value(\n\u001b[0;32m    437\u001b[0m         response\u001b[38;5;241m.\u001b[39mget(\u001b[38;5;124m'\u001b[39m\u001b[38;5;124mvalue\u001b[39m\u001b[38;5;124m'\u001b[39m, \u001b[38;5;28;01mNone\u001b[39;00m))\n\u001b[0;32m    438\u001b[0m     \u001b[38;5;28;01mreturn\u001b[39;00m response\n",
      "File \u001b[1;32mC:\\anaconda 2022\\lib\\site-packages\\selenium\\webdriver\\remote\\errorhandler.py:247\u001b[0m, in \u001b[0;36mErrorHandler.check_response\u001b[1;34m(self, response)\u001b[0m\n\u001b[0;32m    245\u001b[0m         alert_text \u001b[38;5;241m=\u001b[39m value[\u001b[38;5;124m'\u001b[39m\u001b[38;5;124malert\u001b[39m\u001b[38;5;124m'\u001b[39m]\u001b[38;5;241m.\u001b[39mget(\u001b[38;5;124m'\u001b[39m\u001b[38;5;124mtext\u001b[39m\u001b[38;5;124m'\u001b[39m)\n\u001b[0;32m    246\u001b[0m     \u001b[38;5;28;01mraise\u001b[39;00m exception_class(message, screen, stacktrace, alert_text)  \u001b[38;5;66;03m# type: ignore[call-arg]  # mypy is not smart enough here\u001b[39;00m\n\u001b[1;32m--> 247\u001b[0m \u001b[38;5;28;01mraise\u001b[39;00m exception_class(message, screen, stacktrace)\n",
      "\u001b[1;31mElementNotInteractableException\u001b[0m: Message: element not interactable\n  (Session info: chrome=104.0.5112.79)\nStacktrace:\nBacktrace:\n\tOrdinal0 [0x00336463+2188387]\n\tOrdinal0 [0x002CE461+1762401]\n\tOrdinal0 [0x001E3C40+801856]\n\tOrdinal0 [0x00212873+993395]\n\tOrdinal0 [0x00208613+951827]\n\tOrdinal0 [0x0022C7DC+1099740]\n\tOrdinal0 [0x00207FF4+950260]\n\tOrdinal0 [0x0022C9F4+1100276]\n\tOrdinal0 [0x0023CC22+1166370]\n\tOrdinal0 [0x0022C5F6+1099254]\n\tOrdinal0 [0x00206BE0+945120]\n\tOrdinal0 [0x00207AD6+948950]\n\tGetHandleVerifier [0x005D71F2+2712546]\n\tGetHandleVerifier [0x005C886D+2652765]\n\tGetHandleVerifier [0x003C002A+520730]\n\tGetHandleVerifier [0x003BEE06+516086]\n\tOrdinal0 [0x002D468B+1787531]\n\tOrdinal0 [0x002D8E88+1805960]\n\tOrdinal0 [0x002D8F75+1806197]\n\tOrdinal0 [0x002E1DF1+1842673]\n\tBaseThreadInitThunk [0x76A1FA29+25]\n\tRtlGetAppContainerNamedObjectPath [0x77857A9E+286]\n\tRtlGetAppContainerNamedObjectPath [0x77857A6E+238]\n"
     ]
    }
   ],
   "source": [
    "selenium_click = driver.find_element(By.XPATH, \"/html/body/div[2]/div[1]/div[2]/div[2]/div/a[3]\")\n",
    "selenium_click.click()\n",
    "time.sleep(5)"
   ]
  },
  {
   "cell_type": "code",
   "execution_count": 20,
   "id": "c6f92150",
   "metadata": {},
   "outputs": [],
   "source": [
    "url2 = 'https://www.statisticstimes.com/economy/india-statistics.php'\n",
    "driver.get(url2)\n"
   ]
  },
  {
   "cell_type": "code",
   "execution_count": null,
   "id": "99667873",
   "metadata": {},
   "outputs": [],
   "source": [
    "from selenium.common.exceptions import StaleElement ReferenceException #use when first clickable, now not clickable\n",
    "from selenium import webdriver\n",
    "from selenium.wobdriver.support.ui import WebDriverWait\n",
    "from selenium.webdriver.support import expected_conditions as EC\n",
    "from selenium.webdriver.common.by import By\n",
    "driver = webdriver.Chrome('chromedriver.exe')\n",
    "driver.get(\"https://www.guru99.com/exception-handling-selenium.html\") #visible page button\n",
    "tr\n",
    "    element driver.find_element(By.XPATH,\"//table[@class='nav_last]\")\n",
    "    print(element)\n",
    "except StaleElementReferenceException as e:\n",
    "                        print(\"Exceptions Raised: \", e)\n",
    "                        print(\"Refreshing the page!!\")\n",
    "                        driver.get(\"https://www.guru99.com/selenium-tutorial.html\")\n",
    "                        WebDriverwait(driver, delay).until(EC.presence of element located((By.CLASS_NAME, \"nav_last\")))\n",
    "                        element=driver.find_element(By.XPATH, \"//li@class-'nav_last']\") #will be same, just refreshing the page\n",
    "                        print(element)"
   ]
  },
  {
   "cell_type": "code",
   "execution_count": 148,
   "id": "76725646",
   "metadata": {},
   "outputs": [],
   "source": [
    "start=0\n",
    "end=1\n",
    "for page in range(start,end):\n",
    "    Names=driver.find_elements(By.XPATH,'/html/body/div[1]/div/div/div/main/div/article/div/div/table')\n",
    "for i in Names[1:30]:\n",
    "    Name.append(i.text)\n",
    "    "
   ]
  },
  {
   "cell_type": "code",
   "execution_count": 149,
   "id": "dad2c0fc",
   "metadata": {},
   "outputs": [
    {
     "name": "stdout",
     "output_type": "stream",
     "text": [
      "[]\n"
     ]
    }
   ],
   "source": [
    "print(Name)"
   ]
  },
  {
   "cell_type": "code",
   "execution_count": 38,
   "id": "f0d5b05f",
   "metadata": {},
   "outputs": [
    {
     "ename": "TimeoutException",
     "evalue": "Message: \nStacktrace:\nBacktrace:\n\tOrdinal0 [0x009A6463+2188387]\n\tOrdinal0 [0x0093E461+1762401]\n\tOrdinal0 [0x00853D78+802168]\n\tOrdinal0 [0x00881880+989312]\n\tOrdinal0 [0x00881B1B+989979]\n\tOrdinal0 [0x008AE912+1173778]\n\tOrdinal0 [0x0089C824+1099812]\n\tOrdinal0 [0x008ACC22+1166370]\n\tOrdinal0 [0x0089C5F6+1099254]\n\tOrdinal0 [0x00876BE0+945120]\n\tOrdinal0 [0x00877AD6+948950]\n\tGetHandleVerifier [0x00C471F2+2712546]\n\tGetHandleVerifier [0x00C3886D+2652765]\n\tGetHandleVerifier [0x00A3002A+520730]\n\tGetHandleVerifier [0x00A2EE06+516086]\n\tOrdinal0 [0x0094468B+1787531]\n\tOrdinal0 [0x00948E88+1805960]\n\tOrdinal0 [0x00948F75+1806197]\n\tOrdinal0 [0x00951DF1+1842673]\n\tBaseThreadInitThunk [0x762AFA29+25]\n\tRtlGetAppContainerNamedObjectPath [0x776C7A9E+286]\n\tRtlGetAppContainerNamedObjectPath [0x776C7A6E+238]\n",
     "output_type": "error",
     "traceback": [
      "\u001b[1;31m---------------------------------------------------------------------------\u001b[0m",
      "\u001b[1;31mTimeoutException\u001b[0m                          Traceback (most recent call last)",
      "Input \u001b[1;32mIn [38]\u001b[0m, in \u001b[0;36m<cell line: 5>\u001b[1;34m()\u001b[0m\n\u001b[0;32m      3\u001b[0m driver\u001b[38;5;241m.\u001b[39mget(\u001b[38;5;124m\"\u001b[39m\u001b[38;5;124mhttps://www.bcci.tv/international/fixtures\u001b[39m\u001b[38;5;124m\"\u001b[39m)\n\u001b[0;32m      4\u001b[0m delay\u001b[38;5;241m=\u001b[39m\u001b[38;5;241m10\u001b[39m \u001b[38;5;66;03m#seconds\u001b[39;00m\n\u001b[1;32m----> 5\u001b[0m \u001b[43mWebDriverWait\u001b[49m\u001b[43m(\u001b[49m\u001b[43mdriver\u001b[49m\u001b[43m,\u001b[49m\u001b[43m \u001b[49m\u001b[43mdelay\u001b[49m\u001b[43m)\u001b[49m\u001b[38;5;241;43m.\u001b[39;49m\u001b[43muntil\u001b[49m\u001b[43m(\u001b[49m\u001b[43mEC\u001b[49m\u001b[38;5;241;43m.\u001b[39;49m\u001b[43mpresence_of_element_located\u001b[49m\u001b[43m(\u001b[49m\u001b[43m(\u001b[49m\u001b[43mBy\u001b[49m\u001b[38;5;241;43m.\u001b[39;49m\u001b[43mCLASS_NAME\u001b[49m\u001b[43m,\u001b[49m\u001b[43m \u001b[49m\u001b[38;5;124;43m'\u001b[39;49m\u001b[38;5;124;43mmatchOrderText ng-binding ng-scope\u001b[39;49m\u001b[38;5;124;43m'\u001b[39;49m\u001b[43m)\u001b[49m\u001b[43m)\u001b[49m\u001b[43m)\u001b[49m\n\u001b[0;32m      6\u001b[0m element\u001b[38;5;241m=\u001b[39mdriver\u001b[38;5;241m.\u001b[39mfind_element(By\u001b[38;5;241m.\u001b[39mXPATH,\u001b[38;5;124m\"\u001b[39m\u001b[38;5;124m/html/body/div[2]/div[2]/div/div/div/div[2]/div[3]/div/div[1]/div/div[4]/div/span[1]\u001b[39m\u001b[38;5;124m\"\u001b[39m)\n\u001b[0;32m      7\u001b[0m element\n",
      "File \u001b[1;32mC:\\anaconda 2022\\lib\\site-packages\\selenium\\webdriver\\support\\wait.py:90\u001b[0m, in \u001b[0;36mWebDriverWait.until\u001b[1;34m(self, method, message)\u001b[0m\n\u001b[0;32m     88\u001b[0m     \u001b[38;5;28;01mif\u001b[39;00m time\u001b[38;5;241m.\u001b[39mmonotonic() \u001b[38;5;241m>\u001b[39m end_time:\n\u001b[0;32m     89\u001b[0m         \u001b[38;5;28;01mbreak\u001b[39;00m\n\u001b[1;32m---> 90\u001b[0m \u001b[38;5;28;01mraise\u001b[39;00m TimeoutException(message, screen, stacktrace)\n",
      "\u001b[1;31mTimeoutException\u001b[0m: Message: \nStacktrace:\nBacktrace:\n\tOrdinal0 [0x009A6463+2188387]\n\tOrdinal0 [0x0093E461+1762401]\n\tOrdinal0 [0x00853D78+802168]\n\tOrdinal0 [0x00881880+989312]\n\tOrdinal0 [0x00881B1B+989979]\n\tOrdinal0 [0x008AE912+1173778]\n\tOrdinal0 [0x0089C824+1099812]\n\tOrdinal0 [0x008ACC22+1166370]\n\tOrdinal0 [0x0089C5F6+1099254]\n\tOrdinal0 [0x00876BE0+945120]\n\tOrdinal0 [0x00877AD6+948950]\n\tGetHandleVerifier [0x00C471F2+2712546]\n\tGetHandleVerifier [0x00C3886D+2652765]\n\tGetHandleVerifier [0x00A3002A+520730]\n\tGetHandleVerifier [0x00A2EE06+516086]\n\tOrdinal0 [0x0094468B+1787531]\n\tOrdinal0 [0x00948E88+1805960]\n\tOrdinal0 [0x00948F75+1806197]\n\tOrdinal0 [0x00951DF1+1842673]\n\tBaseThreadInitThunk [0x762AFA29+25]\n\tRtlGetAppContainerNamedObjectPath [0x776C7A9E+286]\n\tRtlGetAppContainerNamedObjectPath [0x776C7A6E+238]\n"
     ]
    }
   ],
   "source": [
    "start=0\n",
    "end=1\n",
    "for page in range(start,end):\n",
    "    Match_Titles=driver.find_elements(By.XPATH,'//span[@class=\"matchOrderText ng-binding ng-scope\"]')\n",
    "for i in Match_Titles[1:10]:\n",
    "    Match_Title.append(i.text) \n",
    "    Places=driver.find_elements(By.XPATH, '//span[@class=\"ng-binding ng-scope\"]')\n",
    "for i in Places[1:10]:\n",
    "    Place.append(i.text)\n",
    "    Dates=driver.find_elements(By.XPATH, '//div[@class=\"match-card-left match-schedule\"]')\n",
    "for i in Dates[1:10]:\n",
    "    Date.append(i.text)\n",
    "    Times=driver.find_elements(By.XPATH, '//h5[@class=\"text-right ng-binding\"]')\n",
    "for i in Times[1:10]:\n",
    "    Time.append(i.text) "
   ]
  },
  {
   "cell_type": "code",
   "execution_count": 52,
   "id": "9c3a5064",
   "metadata": {},
   "outputs": [],
   "source": [
    "Match_Titles=driver.find_elements(By.CLASS_NAME,\"matchOrderText ng-binding ng-scope\")\n",
    "for i in Match_Titles[1:10]:\n",
    "    Match_Title.append(i.text)"
   ]
  },
  {
   "cell_type": "code",
   "execution_count": 53,
   "id": "3c409ea7",
   "metadata": {},
   "outputs": [
    {
     "name": "stdout",
     "output_type": "stream",
     "text": [
      "[]\n"
     ]
    }
   ],
   "source": [
    "print(Match_Title)"
   ]
  },
  {
   "cell_type": "code",
   "execution_count": 125,
   "id": "3df145cc",
   "metadata": {},
   "outputs": [
    {
     "ename": "NoSuchElementException",
     "evalue": "Message: no such element: Unable to locate element: {\"method\":\"xpath\",\"selector\":\"/html/body/div[2]/div[2]/div/div/div/div[2]/div[3]/div/div[1]/div/div[4]/div/span[1]\"}\n  (Session info: chrome=103.0.5060.134)\nStacktrace:\nBacktrace:\n\tOrdinal0 [0x009A6463+2188387]\n\tOrdinal0 [0x0093E461+1762401]\n\tOrdinal0 [0x00853D78+802168]\n\tOrdinal0 [0x00881880+989312]\n\tOrdinal0 [0x00881B1B+989979]\n\tOrdinal0 [0x008AE912+1173778]\n\tOrdinal0 [0x0089C824+1099812]\n\tOrdinal0 [0x008ACC22+1166370]\n\tOrdinal0 [0x0089C5F6+1099254]\n\tOrdinal0 [0x00876BE0+945120]\n\tOrdinal0 [0x00877AD6+948950]\n\tGetHandleVerifier [0x00C471F2+2712546]\n\tGetHandleVerifier [0x00C3886D+2652765]\n\tGetHandleVerifier [0x00A3002A+520730]\n\tGetHandleVerifier [0x00A2EE06+516086]\n\tOrdinal0 [0x0094468B+1787531]\n\tOrdinal0 [0x00948E88+1805960]\n\tOrdinal0 [0x00948F75+1806197]\n\tOrdinal0 [0x00951DF1+1842673]\n\tBaseThreadInitThunk [0x762AFA29+25]\n\tRtlGetAppContainerNamedObjectPath [0x776C7A9E+286]\n\tRtlGetAppContainerNamedObjectPath [0x776C7A6E+238]\n",
     "output_type": "error",
     "traceback": [
      "\u001b[1;31m---------------------------------------------------------------------------\u001b[0m",
      "\u001b[1;31mNoSuchElementException\u001b[0m                    Traceback (most recent call last)",
      "Input \u001b[1;32mIn [125]\u001b[0m, in \u001b[0;36m<cell line: 3>\u001b[1;34m()\u001b[0m\n\u001b[0;32m      2\u001b[0m driver\u001b[38;5;241m.\u001b[39mget(\u001b[38;5;124m\"\u001b[39m\u001b[38;5;124mhttps://www.bcci.tv/international/fixtures\u001b[39m\u001b[38;5;124m\"\u001b[39m)\n\u001b[0;32m      3\u001b[0m \u001b[38;5;28;01mtry\u001b[39;00m:\n\u001b[1;32m----> 4\u001b[0m     element\u001b[38;5;241m=\u001b[39m\u001b[43mdriver\u001b[49m\u001b[38;5;241;43m.\u001b[39;49m\u001b[43mfind_element\u001b[49m\u001b[43m(\u001b[49m\u001b[43mBy\u001b[49m\u001b[38;5;241;43m.\u001b[39;49m\u001b[43mXPATH\u001b[49m\u001b[43m,\u001b[49m\u001b[38;5;124;43m\"\u001b[39;49m\u001b[38;5;124;43m/html/body/div[2]/div[2]/div/div/div/div[2]/div[3]/div/div[1]/div/div[4]/div/span[1]\u001b[39;49m\u001b[38;5;124;43m\"\u001b[39;49m\u001b[43m)\u001b[49m\n\u001b[0;32m      5\u001b[0m     \u001b[38;5;28mprint\u001b[39m(element)\n\u001b[0;32m      6\u001b[0m \u001b[38;5;28;01mexcept\u001b[39;00m StaleElementReferenceException \u001b[38;5;28;01mas\u001b[39;00m e:\n",
      "File \u001b[1;32mC:\\anaconda 2022\\lib\\site-packages\\selenium\\webdriver\\remote\\webdriver.py:857\u001b[0m, in \u001b[0;36mWebDriver.find_element\u001b[1;34m(self, by, value)\u001b[0m\n\u001b[0;32m    854\u001b[0m     by \u001b[38;5;241m=\u001b[39m By\u001b[38;5;241m.\u001b[39mCSS_SELECTOR\n\u001b[0;32m    855\u001b[0m     value \u001b[38;5;241m=\u001b[39m \u001b[38;5;124m'\u001b[39m\u001b[38;5;124m[name=\u001b[39m\u001b[38;5;124m\"\u001b[39m\u001b[38;5;132;01m%s\u001b[39;00m\u001b[38;5;124m\"\u001b[39m\u001b[38;5;124m]\u001b[39m\u001b[38;5;124m'\u001b[39m \u001b[38;5;241m%\u001b[39m value\n\u001b[1;32m--> 857\u001b[0m \u001b[38;5;28;01mreturn\u001b[39;00m \u001b[38;5;28;43mself\u001b[39;49m\u001b[38;5;241;43m.\u001b[39;49m\u001b[43mexecute\u001b[49m\u001b[43m(\u001b[49m\u001b[43mCommand\u001b[49m\u001b[38;5;241;43m.\u001b[39;49m\u001b[43mFIND_ELEMENT\u001b[49m\u001b[43m,\u001b[49m\u001b[43m \u001b[49m\u001b[43m{\u001b[49m\n\u001b[0;32m    858\u001b[0m \u001b[43m    \u001b[49m\u001b[38;5;124;43m'\u001b[39;49m\u001b[38;5;124;43musing\u001b[39;49m\u001b[38;5;124;43m'\u001b[39;49m\u001b[43m:\u001b[49m\u001b[43m \u001b[49m\u001b[43mby\u001b[49m\u001b[43m,\u001b[49m\n\u001b[0;32m    859\u001b[0m \u001b[43m    \u001b[49m\u001b[38;5;124;43m'\u001b[39;49m\u001b[38;5;124;43mvalue\u001b[39;49m\u001b[38;5;124;43m'\u001b[39;49m\u001b[43m:\u001b[49m\u001b[43m \u001b[49m\u001b[43mvalue\u001b[49m\u001b[43m}\u001b[49m\u001b[43m)\u001b[49m[\u001b[38;5;124m'\u001b[39m\u001b[38;5;124mvalue\u001b[39m\u001b[38;5;124m'\u001b[39m]\n",
      "File \u001b[1;32mC:\\anaconda 2022\\lib\\site-packages\\selenium\\webdriver\\remote\\webdriver.py:435\u001b[0m, in \u001b[0;36mWebDriver.execute\u001b[1;34m(self, driver_command, params)\u001b[0m\n\u001b[0;32m    433\u001b[0m response \u001b[38;5;241m=\u001b[39m \u001b[38;5;28mself\u001b[39m\u001b[38;5;241m.\u001b[39mcommand_executor\u001b[38;5;241m.\u001b[39mexecute(driver_command, params)\n\u001b[0;32m    434\u001b[0m \u001b[38;5;28;01mif\u001b[39;00m response:\n\u001b[1;32m--> 435\u001b[0m     \u001b[38;5;28;43mself\u001b[39;49m\u001b[38;5;241;43m.\u001b[39;49m\u001b[43merror_handler\u001b[49m\u001b[38;5;241;43m.\u001b[39;49m\u001b[43mcheck_response\u001b[49m\u001b[43m(\u001b[49m\u001b[43mresponse\u001b[49m\u001b[43m)\u001b[49m\n\u001b[0;32m    436\u001b[0m     response[\u001b[38;5;124m'\u001b[39m\u001b[38;5;124mvalue\u001b[39m\u001b[38;5;124m'\u001b[39m] \u001b[38;5;241m=\u001b[39m \u001b[38;5;28mself\u001b[39m\u001b[38;5;241m.\u001b[39m_unwrap_value(\n\u001b[0;32m    437\u001b[0m         response\u001b[38;5;241m.\u001b[39mget(\u001b[38;5;124m'\u001b[39m\u001b[38;5;124mvalue\u001b[39m\u001b[38;5;124m'\u001b[39m, \u001b[38;5;28;01mNone\u001b[39;00m))\n\u001b[0;32m    438\u001b[0m     \u001b[38;5;28;01mreturn\u001b[39;00m response\n",
      "File \u001b[1;32mC:\\anaconda 2022\\lib\\site-packages\\selenium\\webdriver\\remote\\errorhandler.py:247\u001b[0m, in \u001b[0;36mErrorHandler.check_response\u001b[1;34m(self, response)\u001b[0m\n\u001b[0;32m    245\u001b[0m         alert_text \u001b[38;5;241m=\u001b[39m value[\u001b[38;5;124m'\u001b[39m\u001b[38;5;124malert\u001b[39m\u001b[38;5;124m'\u001b[39m]\u001b[38;5;241m.\u001b[39mget(\u001b[38;5;124m'\u001b[39m\u001b[38;5;124mtext\u001b[39m\u001b[38;5;124m'\u001b[39m)\n\u001b[0;32m    246\u001b[0m     \u001b[38;5;28;01mraise\u001b[39;00m exception_class(message, screen, stacktrace, alert_text)  \u001b[38;5;66;03m# type: ignore[call-arg]  # mypy is not smart enough here\u001b[39;00m\n\u001b[1;32m--> 247\u001b[0m \u001b[38;5;28;01mraise\u001b[39;00m exception_class(message, screen, stacktrace)\n",
      "\u001b[1;31mNoSuchElementException\u001b[0m: Message: no such element: Unable to locate element: {\"method\":\"xpath\",\"selector\":\"/html/body/div[2]/div[2]/div/div/div/div[2]/div[3]/div/div[1]/div/div[4]/div/span[1]\"}\n  (Session info: chrome=103.0.5060.134)\nStacktrace:\nBacktrace:\n\tOrdinal0 [0x009A6463+2188387]\n\tOrdinal0 [0x0093E461+1762401]\n\tOrdinal0 [0x00853D78+802168]\n\tOrdinal0 [0x00881880+989312]\n\tOrdinal0 [0x00881B1B+989979]\n\tOrdinal0 [0x008AE912+1173778]\n\tOrdinal0 [0x0089C824+1099812]\n\tOrdinal0 [0x008ACC22+1166370]\n\tOrdinal0 [0x0089C5F6+1099254]\n\tOrdinal0 [0x00876BE0+945120]\n\tOrdinal0 [0x00877AD6+948950]\n\tGetHandleVerifier [0x00C471F2+2712546]\n\tGetHandleVerifier [0x00C3886D+2652765]\n\tGetHandleVerifier [0x00A3002A+520730]\n\tGetHandleVerifier [0x00A2EE06+516086]\n\tOrdinal0 [0x0094468B+1787531]\n\tOrdinal0 [0x00948E88+1805960]\n\tOrdinal0 [0x00948F75+1806197]\n\tOrdinal0 [0x00951DF1+1842673]\n\tBaseThreadInitThunk [0x762AFA29+25]\n\tRtlGetAppContainerNamedObjectPath [0x776C7A9E+286]\n\tRtlGetAppContainerNamedObjectPath [0x776C7A6E+238]\n"
     ]
    }
   ],
   "source": [
    "driver = webdriver.Chrome('chromedriver.exe')\n",
    "driver.get(\"https://www.bcci.tv/international/fixtures\")\n",
    "try:\n",
    "    element=driver.find_element(By.XPATH,\"/html/body/div[2]/div[2]/div/div/div/div[2]/div[3]/div/div[1]/div/div[4]/div/span[1]\")\n",
    "    print(element)\n",
    "except StaleElementReferenceException as e:\n",
    "                        print(\"Exceptions Raised: \", e)\n",
    "                        print(\"Refreshing the page!!\")\n",
    "                        driver.get(\"https://www.bcci.tv/international/fixtures\")\n",
    "                        WebDriverWait(driver, delay).until(EC.presence_of_element_located((By.CLASS_NAME, \"matchOrderText ng-binding ng-scope\")))\n",
    "                        element=driver.find_element(By.XPATH, \"/html/body/div[2]/div[2]/div/div/div/div[2]/div[3]/div/div[1]/div/div[4]/div/span[1]\") #will be same, just refreshing the page\n",
    "                        print(element)"
   ]
  },
  {
   "cell_type": "code",
   "execution_count": 48,
   "id": "e72b5d06",
   "metadata": {},
   "outputs": [],
   "source": [
    "Match_Titles=driver.find_elements(By.CLASS_NAME,\"matchOrderText ng-binding ng-scope\")\n",
    "for i in Match_Titles[1:10]:\n",
    "    Match_Title.append(i.text)"
   ]
  },
  {
   "cell_type": "code",
   "execution_count": 49,
   "id": "66b9844f",
   "metadata": {},
   "outputs": [
    {
     "name": "stdout",
     "output_type": "stream",
     "text": [
      "[]\n"
     ]
    }
   ],
   "source": [
    "print(Match_Title)"
   ]
  },
  {
   "cell_type": "code",
   "execution_count": null,
   "id": "cfa08482",
   "metadata": {},
   "outputs": [],
   "source": [
    "if x==null:\n",
    "    append.\n",
    "    pringt()"
   ]
  },
  {
   "cell_type": "code",
   "execution_count": null,
   "id": "853c559b",
   "metadata": {},
   "outputs": [],
   "source": [
    "for url in links:\n",
    "    driver.get(url)\n",
    "    company = driver.find_elements_by_xpath(\"\"\"//*[contains(@id, 'node')]/div[2]/ul/li/div/div[1]/span\"\"\")\n",
    "    date = driver.find_elements_by_xpath(\"\"\"//*[contains(@id, 'node')]/div[1]/div[1]/div[2]/div/span\"\"\")\n",
    "    title = driver.find_elements_by_xpath(\"\"\"//*[@id=\"page-title\"]/span\"\"\")\n",
    "    urlinf = driver.current_url #url info\n",
    "\n",
    "    num_page_items = len(date)\n",
    "    for i in range(num_page_items):\n",
    "        try:\n",
    "            df = df.append({'Company': company[i].text, 'Date': date[i].text, 'Title': title[i].text, 'URL': urlinf}, ignore_index=True)\n",
    "        except IndexError:\n",
    "            df.append(None) # or df.append('Null')\n"
   ]
  },
  {
   "cell_type": "code",
   "execution_count": null,
   "id": "dc995a59",
   "metadata": {},
   "outputs": [],
   "source": []
  },
  {
   "cell_type": "code",
   "execution_count": null,
   "id": "926785ba",
   "metadata": {},
   "outputs": [],
   "source": []
  },
  {
   "cell_type": "code",
   "execution_count": null,
   "id": "82f6e57a",
   "metadata": {},
   "outputs": [],
   "source": []
  },
  {
   "cell_type": "code",
   "execution_count": null,
   "id": "3b97042f",
   "metadata": {},
   "outputs": [],
   "source": []
  }
 ],
 "metadata": {
  "kernelspec": {
   "display_name": "Python 3 (ipykernel)",
   "language": "python",
   "name": "python3"
  },
  "language_info": {
   "codemirror_mode": {
    "name": "ipython",
    "version": 3
   },
   "file_extension": ".py",
   "mimetype": "text/x-python",
   "name": "python",
   "nbconvert_exporter": "python",
   "pygments_lexer": "ipython3",
   "version": "3.9.12"
  }
 },
 "nbformat": 4,
 "nbformat_minor": 5
}
